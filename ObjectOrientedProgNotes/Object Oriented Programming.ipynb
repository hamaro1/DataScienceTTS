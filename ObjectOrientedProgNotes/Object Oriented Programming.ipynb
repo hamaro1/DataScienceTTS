{
 "cells": [
  {
   "cell_type": "markdown",
   "metadata": {},
   "source": [
    "# Classes and Objects\n",
    "\n",
    "Python is object-oritented programming language like Java and C++. Python does not force you to use classes, inheritance, and methods.\n",
    "\n",
    "Every value in Python is an object. Object are a way to combine data and functions handle the data.\n",
    "\n",
    "Functions, modules, methods and classes, etc are all first class objects.\n",
    "\n",
    "Object:\n",
    "    -stored in container\n",
    "    -passed to a function as a parameter\n",
    "    -returned by a function\n",
    "    -bound to a variable\n",
    "    \n",
    "A user can define own data types. These are called classes. \n",
    "\n",
    "1. The --init__ method should be defined in at the top of the class. Ovverid this method and add whatever arguements you want.\n",
    "\n",
    "2. You can now set self.name and self.age from the tops of the class and set self.score = 0.\n",
    "\n",
    "3. Change the lines"
   ]
  },
  {
   "cell_type": "code",
   "execution_count": null,
   "metadata": {},
   "outputs": [],
   "source": [
    "class myClass(object):\n",
    "    \"\"\"Documentation string of the class\"\"\"\n",
    "    \n",
    "    def __init__(self, param1, param2):\n",
    "        self.b = param1 #creates an instance attributes\n",
    "        c = param2 # creates a local variable of the function\n",
    "        # statements...\n",
    "    \n",
    "    def f(self, param1):\n",
    "        \"\"\"This is a method of the class\"\"\"\n",
    "        #some interest\n",
    "        \n",
    "    a = 1 # This creates a class attributes\n",
    "        "
   ]
  },
  {
   "cell_type": "markdown",
   "metadata": {},
   "source": [
    "Instances:\n",
    "__init__ method you can create the instance specific attributes. \n",
    "\n",
    "Attribute LookUp:\n",
    "\n",
    "Suppose x is an instance of a class X, and we want to read the attributes x.a. \n",
    "\n",
    "### Examples of Objects and Classes\n",
    "\n",
    "Objects are an encapsulation of variables and functions into a single entity. "
   ]
  }
 ],
 "metadata": {
  "kernelspec": {
   "display_name": "Python 3",
   "language": "python",
   "name": "python3"
  },
  "language_info": {
   "codemirror_mode": {
    "name": "ipython",
    "version": 3
   },
   "file_extension": ".py",
   "mimetype": "text/x-python",
   "name": "python",
   "nbconvert_exporter": "python",
   "pygments_lexer": "ipython3",
   "version": "3.8.3"
  }
 },
 "nbformat": 4,
 "nbformat_minor": 4
}
