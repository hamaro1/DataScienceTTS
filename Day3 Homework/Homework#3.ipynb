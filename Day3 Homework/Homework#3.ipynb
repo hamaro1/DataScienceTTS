{
 "cells": [
  {
   "cell_type": "markdown",
   "metadata": {},
   "source": [
    "# Homework 3"
   ]
  },
  {
   "cell_type": "markdown",
   "metadata": {},
   "source": [
    "### Exercise 1:\n",
    "\n",
    "Guess a number between 1 to 9 given by the user"
   ]
  },
  {
   "cell_type": "code",
   "execution_count": 11,
   "metadata": {},
   "outputs": [
    {
     "name": "stdout",
     "output_type": "stream",
     "text": [
      "Let's play a game. Can you guess our number between 1 - 9??\n",
      "Make your guess: 9\n",
      "Sorry :p \n",
      " Try again\n",
      "Make your guess: 8\n",
      "Sorry :p \n",
      " Try again\n",
      "Make your guess: 7\n",
      "Sorry :p \n",
      " Try again\n",
      "Make your guess: 6\n",
      "You did it!!! \n",
      "You were right! Our number was 6\n"
     ]
    }
   ],
   "source": [
    "import random\n",
    "\n",
    "print(\"Let's play a game. Can you guess our number between 1 - 9??\")\n",
    "number = random.randint(1,9)\n",
    "\n",
    "user_guess = int(input(\"Make your guess: \"))\n",
    "\n",
    "while user_guess != number:\n",
    "    print(\"Sorry :p \\n Try again\")\n",
    "    user_guess = int(input(\"Make your guess: \"))\n",
    "    \n",
    "print(\"You did it!!! \\nYou were right! Our number was \" + str(user_guess))"
   ]
  },
  {
   "cell_type": "markdown",
   "metadata": {},
   "source": [
    "### Exercise 2\n",
    "Check the validity of password input by the user.\n",
    "\n",
    "Validation:\n",
    "\n",
    "At least 1 letter between [a-z] and 1 letter between [A-Z]\n",
    "At least 1 number between [0-9]\n",
    "At least 1 character from [$#@]\n",
    "Minimum length 6 characters\n",
    "Maximum length 16 characters"
   ]
  },
  {
   "cell_type": "code",
   "execution_count": null,
   "metadata": {},
   "outputs": [],
   "source": [
    "validation = False\n",
    "\n",
    "password_input = input(\"Please input your password to check validation: \")\n"
   ]
  },
  {
   "cell_type": "markdown",
   "metadata": {},
   "source": [
    "### Exercise 3\n",
    "Get input of the age of 3 people by user and determine oldest and youngest among them"
   ]
  },
  {
   "cell_type": "code",
   "execution_count": 5,
   "metadata": {},
   "outputs": [
    {
     "name": "stdout",
     "output_type": "stream",
     "text": [
      "Input the age of the first person: 45\n",
      "Input the age of the second person: 56\n",
      "Input the age of the third person: 45\n",
      "The oldest is 56 ,the second oldest is 45 , and youngest is 45\n"
     ]
    }
   ],
   "source": [
    "first_person = int(input(\"Input the age of the first person: \"))\n",
    "second_person = int(input(\"Input the age of the second person: \"))\n",
    "third_person = int(input(\"Input the age of the third person: \"))\n",
    "\n",
    "if first_person >= second_person and first_person >= third_person:\n",
    "    if second_person >= third_person:\n",
    "        print(\"The oldest is \" + str(first_person) + \" ,the second oldest is \" + str(second_person) + \" , and youngest is \" + str(third_person))\n",
    "    else:\n",
    "         print(\"The oldest is \" + str(first_person) + \" ,the second oldest is \" + str(second_person) + \" , and youngest is \" + str(third_person))\n",
    "elif second_person >= first_person and second_person >= third_person:\n",
    "    if first_person >= third_person:\n",
    "        print(\"The oldest is \" + str(second_person) + \" ,the second oldest is \" + str(first_person) + \" , and youngest is \" + str(third_person))\n",
    "    else:\n",
    "        print(\"The oldest is \" + str(second_person) + \" ,the second oldest is \" + str(third_person) + \" , and youngest is \" + str(second_person))\n",
    "else:\n",
    "    if first_person >= second_person:\n",
    "        print(\"The oldest is \" + str(third_person) + \" ,the second oldest is \" + str(first_person) + \" , and youngest is \" + str(second_person))\n",
    "    else:\n",
    "        print(\"The oldest is \" + str(third_person) + \" ,the second oldest is \" + str(second_person) + \" , and youngest is \" + str(first_person))  \n",
    "        "
   ]
  },
  {
   "cell_type": "markdown",
   "metadata": {},
   "source": [
    "### Exercise 4:\n",
    "A student will not be allowed to sit in exam if his/her attendance is less than 75%.\n",
    "\n",
    "Take following input from user\n",
    "\n",
    "Number of classes held\n",
    "Number of classes attended.\n",
    "And print\n",
    "percentage of class attended\n",
    "Is student is allowed to sit in exam or not?"
   ]
  },
  {
   "cell_type": "code",
   "execution_count": null,
   "metadata": {},
   "outputs": [],
   "source": [
    "classes_held = int(input(\"How many classes were held for the class (Integer): \"))\n",
    "classes_attended = int(input(\"How many classes did they attend (Integer): \"))\n",
    "percent_attended = float(classes_attended/classes_held) * 100\n",
    "print(percent_attended)\n",
    "\n",
    "if percent_attended < 75:\n",
    "    print(\"Student cannot sit in exam.\")\n",
    "else:\n",
    "    print(\"Student may sit in the exam.\")"
   ]
  },
  {
   "cell_type": "markdown",
   "metadata": {},
   "source": [
    "### Exercise 5:\n",
    "Get an integer N from the user and perform the following actions:\n",
    "\n",
    "- if N is odd, print \"weird\"\n",
    "- if N is even and in the inclusive range of 2 to 5, print \"Not Weird\"\n",
    "- if N is even and in the inclusive range of 6 to 20, print \"Weird\"\n",
    "- if N is even and greater than 20, print \"Not Weird\""
   ]
  },
  {
   "cell_type": "code",
   "execution_count": 2,
   "metadata": {},
   "outputs": [
    {
     "name": "stdout",
     "output_type": "stream",
     "text": [
      "Type an integer: 16\n",
      "Weird :p\n"
     ]
    }
   ],
   "source": [
    "n = int(input(\"Type an integer: \"))\n",
    "\n",
    "if (n % 2 != 1):\n",
    "    print(\"Weird :p\")\n",
    "elif 2 <= n <= 5:\n",
    "    print(\"Not Weird\")\n",
    "elif 6 <= n <= 20:\n",
    "    print(\"Weird :p\")\n",
    "elif n > 20:\n",
    "    print(\"Not Weird\")\n",
    "        "
   ]
  }
 ],
 "metadata": {
  "kernelspec": {
   "display_name": "Python 3",
   "language": "python",
   "name": "python3"
  }
 },
 "nbformat": 4,
 "nbformat_minor": 4
}
