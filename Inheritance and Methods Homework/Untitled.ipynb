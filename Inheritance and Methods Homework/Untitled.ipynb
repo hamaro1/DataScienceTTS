{
 "cells": [
  {
   "cell_type": "markdown",
   "metadata": {},
   "source": [
    "## Homework\n",
    "\n",
    "You are given two classes, Person and Student, where Person is the base class and Student is the derived class. Completed code for Person and a declaration for Student are provided for you in the editor. Observe that Student inherits all the properties of Person.\n",
    "\n",
    "Complete the Student class by writing the following:\n",
    "A Student class constructor, which has 4 parameters:\n",
    "- A string, firstName\n",
    "- A string, lastName\n",
    "- An integer, id\n",
    "An integer array (or vector) of test scores, scores\n",
    "\n",
    "A char calculate() method that calculates a Student object's average and returns the grade character representative of their calculated average:\n",
    "A | 90-100\n",
    "B | 80-89\n",
    "C | 70-79\n",
    "D | 60-69\n",
    "F | <60"
   ]
  },
  {
   "cell_type": "code",
   "execution_count": 10,
   "metadata": {},
   "outputs": [
    {
     "name": "stdout",
     "output_type": "stream",
     "text": [
      "Hello! Please enter student first name: helen\n",
      "Please enter last name: amaro\n",
      "Enter your id #: 91\n",
      "Thanks! Please enter test scores (no commas): 91 100 29 100\n",
      "[91, 100, 29, 100]\n",
      "The student got a letter grade of  B  for the year\n"
     ]
    }
   ],
   "source": [
    "class Person(object):\n",
    "    fname = \"\"\n",
    "    lname = \"\"\n",
    "    \n",
    "    def __init__(self, fname, lname):\n",
    "        self.fname = fname\n",
    "        self.lname = lname\n",
    "    \n",
    "        \n",
    "class Student(Person):\n",
    "    id = 0\n",
    "    scores = []\n",
    "    \n",
    "    def __init__(self, fname, lname, id, scores):\n",
    "        super().__init__(fname, lname)\n",
    "        self.id = id\n",
    "        self.scores = scores\n",
    "    \n",
    "    def __avg__(self, scores):\n",
    "        avg = sum(scores)/len(scores)\n",
    "        return avg\n",
    "    \n",
    "    def __calculate__(self, avg):\n",
    "        if 90 <= avg <= 100:\n",
    "            return \"A\"\n",
    "        elif 80 <= avg <= 89:\n",
    "            return \"B\"\n",
    "        elif 70 <= avg <= 79:\n",
    "            return \"C\"\n",
    "        elif 60 <= avg <= 69:\n",
    "            return \"D\"\n",
    "        else:\n",
    "            return \"F\"\n",
    "    \n",
    "first = input(\"Hello! Please enter student first name: \")\n",
    "last = input(\"Please enter last name: \")\n",
    "id = int(input(\"Enter your id #: \" ))\n",
    "score = list(map(int, input(\"Thanks! Please enter test scores (no commas): \").split(' ')))\n",
    "\n",
    "student1 = Student(first, last, id, score)\n",
    "print(score)\n",
    "avg = student1.__avg__(score)\n",
    "grade = student1.__calculate__(avg)\n",
    "print(\"The student got a letter grade of \", grade, \" for the year\")"
   ]
  }
 ],
 "metadata": {
  "kernelspec": {
   "display_name": "Python 3",
   "language": "python",
   "name": "python3"
  },
  "language_info": {
   "codemirror_mode": {
    "name": "ipython",
    "version": 3
   },
   "file_extension": ".py",
   "mimetype": "text/x-python",
   "name": "python",
   "nbconvert_exporter": "python",
   "pygments_lexer": "ipython3",
   "version": "3.8.3"
  }
 },
 "nbformat": 4,
 "nbformat_minor": 4
}
